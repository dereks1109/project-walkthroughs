{
  "cells": [
    {
      "cell_type": "markdown",
      "metadata": {
        "id": "view-in-github",
        "colab_type": "text"
      },
      "source": [
        "<a href=\"https://colab.research.google.com/github/dereks1109/project-walkthroughs/blob/master/PokemonSV_6star.ipynb\" target=\"_parent\"><img src=\"https://colab.research.google.com/assets/colab-badge.svg\" alt=\"Open In Colab\"/></a>"
      ]
    },
    {
      "cell_type": "markdown",
      "metadata": {
        "id": "L1tweNs_xNsr"
      },
      "source": [
        "# 0. README\n",
        "\n",
        "* (只限一般六星房)準備一隻 \n",
        "1. 滿等夢特鋼貓\n",
        "2. 個性 ：固執\n",
        "3. 努力值練滿 ：血 攻擊\n",
        "4. 道具 ：廣角鏡\n",
        "5. 刺耳聲 幫助 鐵頭 挑釁 (不配劍舞是因為大多數房主都會自覺放)\n",
        "\n",
        "* 教學：https://forum.gamer.com.tw/C.php?bsn=1647&snA=120239\n",
        "*   此筆記無法更改，所以要先從上方選單中【檔案File】→【在Drive儲存備份Save Copy in Drive】就得到一份可修改的筆記\n",
        "\n",
        "*   搜尋結果未必是正確的Room ID，有機會是網址的一部份\n",
        "\n",
        " 從上方選單中【執行階段Runtime】→【全部執行Run all】就可以自動搜尋ID\n",
        "\n",
        "\n",
        "\n",
        "\n",
        "\n"
      ]
    },
    {
      "cell_type": "code",
      "execution_count": null,
      "metadata": {
        "colab": {
          "base_uri": "https://localhost:8080/"
        },
        "id": "SMLdHhuCTxyR",
        "outputId": "22770c53-43a8-48f7-ec82-f67543a7882b"
      },
      "outputs": [
        {
          "output_type": "stream",
          "name": "stdout",
          "text": [
            "Looking in indexes: https://pypi.org/simple, https://us-python.pkg.dev/colab-wheels/public/simple/\n",
            "Requirement already satisfied: requests in /usr/local/lib/python3.9/dist-packages (2.25.1)\n",
            "Requirement already satisfied: idna<3,>=2.5 in /usr/local/lib/python3.9/dist-packages (from requests) (2.10)\n",
            "Requirement already satisfied: certifi>=2017.4.17 in /usr/local/lib/python3.9/dist-packages (from requests) (2022.12.7)\n",
            "Requirement already satisfied: urllib3<1.27,>=1.21.1 in /usr/local/lib/python3.9/dist-packages (from requests) (1.26.15)\n",
            "Requirement already satisfied: chardet<5,>=3.0.2 in /usr/local/lib/python3.9/dist-packages (from requests) (4.0.0)\n",
            "Looking in indexes: https://pypi.org/simple, https://us-python.pkg.dev/colab-wheels/public/simple/\n",
            "Requirement already satisfied: bs4 in /usr/local/lib/python3.9/dist-packages (0.0.1)\n",
            "Requirement already satisfied: beautifulsoup4 in /usr/local/lib/python3.9/dist-packages (from bs4) (4.9.3)\n",
            "Requirement already satisfied: soupsieve>1.2 in /usr/local/lib/python3.9/dist-packages (from beautifulsoup4->bs4) (2.4)\n",
            "Looking in indexes: https://pypi.org/simple, https://us-python.pkg.dev/colab-wheels/public/simple/\n",
            "Collecting snscrape\n",
            "  Downloading snscrape-0.6.1.20230314-py3-none-any.whl (71 kB)\n",
            "\u001b[2K     \u001b[90m━━━━━━━━━━━━━━━━━━━━━━━━━━━━━━━━━━━━━━━━\u001b[0m \u001b[32m71.6/71.6 KB\u001b[0m \u001b[31m1.9 MB/s\u001b[0m eta \u001b[36m0:00:00\u001b[0m\n",
            "\u001b[?25hRequirement already satisfied: requests[socks] in /usr/local/lib/python3.9/dist-packages (from snscrape) (2.25.1)\n",
            "Requirement already satisfied: lxml in /usr/local/lib/python3.9/dist-packages (from snscrape) (4.9.2)\n",
            "Requirement already satisfied: beautifulsoup4 in /usr/local/lib/python3.9/dist-packages (from snscrape) (4.9.3)\n",
            "Requirement already satisfied: filelock in /usr/local/lib/python3.9/dist-packages (from snscrape) (3.9.1)\n",
            "Requirement already satisfied: soupsieve>1.2 in /usr/local/lib/python3.9/dist-packages (from beautifulsoup4->snscrape) (2.4)\n",
            "Requirement already satisfied: chardet<5,>=3.0.2 in /usr/local/lib/python3.9/dist-packages (from requests[socks]->snscrape) (4.0.0)\n",
            "Requirement already satisfied: urllib3<1.27,>=1.21.1 in /usr/local/lib/python3.9/dist-packages (from requests[socks]->snscrape) (1.26.15)\n",
            "Requirement already satisfied: certifi>=2017.4.17 in /usr/local/lib/python3.9/dist-packages (from requests[socks]->snscrape) (2022.12.7)\n",
            "Requirement already satisfied: idna<3,>=2.5 in /usr/local/lib/python3.9/dist-packages (from requests[socks]->snscrape) (2.10)\n",
            "Requirement already satisfied: PySocks!=1.5.7,>=1.5.6 in /usr/local/lib/python3.9/dist-packages (from requests[socks]->snscrape) (1.7.1)\n",
            "Installing collected packages: snscrape\n",
            "Successfully installed snscrape-0.6.1.20230314\n"
          ]
        }
      ],
      "source": [
        "!pip install requests\n",
        "!pip install bs4\n",
        "!pip install snscrape"
      ]
    },
    {
      "cell_type": "markdown",
      "metadata": {
        "id": "1gSYuV1NxbWs"
      },
      "source": [
        "#1. 程式碼部分\n",
        "\n",
        "*   如果不會PYTHON的話可省略\n",
        "*   Documentation : https://github.com/JustAnotherArchivist/snscrape/blob/master/snscrape/modules/twitter.py\n",
        "\n",
        "\n"
      ]
    },
    {
      "cell_type": "code",
      "execution_count": null,
      "metadata": {
        "id": "zPtOJKPzad1h"
      },
      "outputs": [],
      "source": [
        "import snscrape.modules.twitter as snTwitter\n",
        "import datetime\n",
        "import time\n",
        "import re\n",
        "import pytz\n",
        "from IPython.display import clear_output "
      ]
    },
    {
      "cell_type": "code",
      "execution_count": null,
      "metadata": {
        "id": "4_xCc-zghbSs"
      },
      "outputs": [],
      "source": [
        "re_ID = re.compile(\"[A-HJ-NP-Ya-hj-np-y0-9]{6}\") #ID是由6個英文字母和數字組成, 當中不包括\"I\",\"O\"和\"Z\""
      ]
    },
    {
      "cell_type": "code",
      "execution_count": null,
      "metadata": {
        "id": "qstGy1Mo3i4S"
      },
      "outputs": [],
      "source": [
        "class scraper:\n",
        "  def __init__(self, searchItem):\n",
        "    scraper = snTwitter.TwitterSearchScraper(searchItem)\n",
        "    for tweet in scraper.get_items():\n",
        "      break\n",
        "    tweet_datetime = tweet.date\n",
        "    dt = tweet_datetime.astimezone(pytz.utc).replace(tzinfo=None)  # convert tweet date to datetime object\n",
        "    now = datetime.datetime.now()\n",
        "    delta = now - dt\n",
        "    tweet_content = tweet.rawContent\n",
        "    roomid_match = re.search(re_ID, tweet_content)\n",
        "    if delta.total_seconds() >= 90: #1分半鐘前的Room ID絕大部份過期\n",
        "      pass\n",
        "    else:\n",
        "      if roomid_match:\n",
        "        room_id = re.findall(re_ID, tweet_content)\n",
        "        filter = ['PayPay',\"販売\",\"円\",\"https://t.co/\"]\n",
        "        if any(word in tweet_content for word in filter): #廣告\n",
        "          pass\n",
        "        else:\n",
        "          print(f\"Date: {tweet_datetime.date()} | {(delta.seconds//60)%60}min {delta.seconds%60}s ago | Time: {tweet_datetime.time()} | ID: {room_id}\")\n",
        "          print(f\"Content:{tweet_content}\") \n",
        "          print(f\"Link:{tweet.url}\\n\") \n",
        "      else:\n",
        "        pass"
      ]
    },
    {
      "cell_type": "code",
      "execution_count": null,
      "metadata": {
        "id": "LgvRrk7fdKmP"
      },
      "outputs": [],
      "source": [
        "def findRoom(text):\n",
        "  while True:\n",
        "    #clear previous output\n",
        "    clear_output()\n",
        "    print(\"Waiting for ROOM ID....\")\n",
        "    scraper(text)\n",
        "    time.sleep(10) #20秒讀取Tweeter一次"
      ]
    },
    {
      "cell_type": "markdown",
      "metadata": {
        "id": "uOfGhDovxBBt"
      },
      "source": [
        "#2. 程式\n",
        "Twitter URL for checking : https://twitter.com/search?q=ニャイキング&src=typed_query&f=live\n"
      ]
    },
    {
      "cell_type": "code",
      "execution_count": null,
      "metadata": {
        "id": "jrMm1URYaq9J"
      },
      "outputs": [],
      "source": [
        "鋼貓隊 = f\"ニャイキング\"\n",
        "比卡超 = \"最強ピカチュウ\" \n",
        "狙射樹梟 = 'ジュナイパー'"
      ]
    },
    {
      "cell_type": "code",
      "execution_count": null,
      "metadata": {
        "colab": {
          "base_uri": "https://localhost:8080/"
        },
        "id": "pi_dqg5Bayz5",
        "outputId": "218f7c61-7da6-441a-b131-f812b33047eb"
      },
      "outputs": [
        {
          "output_type": "stream",
          "name": "stdout",
          "text": [
            "Waiting for ROOM ID....\n"
          ]
        }
      ],
      "source": [
        "findRoom(鋼貓隊)"
      ]
    }
  ],
  "metadata": {
    "colab": {
      "provenance": [],
      "toc_visible": true,
      "authorship_tag": "ABX9TyPXUxkoaEeB5PqXpYO2qQ4k",
      "include_colab_link": true
    },
    "kernelspec": {
      "display_name": "Python 3",
      "name": "python3"
    },
    "language_info": {
      "name": "python"
    }
  },
  "nbformat": 4,
  "nbformat_minor": 0
}